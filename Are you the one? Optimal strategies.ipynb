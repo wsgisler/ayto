{
 "cells": [
  {
   "cell_type": "markdown",
   "metadata": {},
   "source": [
    "# Are you the one - Monte Carlo simulation of two strategies\n",
    "\n",
    "## Rules\n",
    "\n",
    "At the beginning of the competition, for 10 men and 10 women, their \"optimal\" partner according to scientific criteria are found. The contestants don't know who their perfect match is.\n",
    "\n",
    "In successive weeks/ rounds, the contestants have to match up in couples that they can chose themselves. At the end of each week, the contestants will get to know how many of the chosen matchups were correct, but they don't get to know which ones were correct. In addition, after this information is given, they are allowed to send one couple to the truth booth and they will find out for this couple whether the couple is a perfect match or not. The couple that is sent to the truth booth can be chosen freely (i.e. we can chose a couple that was paired up together before, or we can also chose a couple that was never paired up before).\n",
    "\n",
    "If the contestants manage to find all of the perfect matches by the end of round 10, they will share a price of 1 Mio USD.\n",
    "\n",
    "## Methodology\n",
    "\n",
    "This is an attempt to simulate different strategies and hence to find out how likely these strategies are to find the correct couple within 10 weeks."
   ]
  },
  {
   "cell_type": "markdown",
   "metadata": {},
   "source": [
    "First, let's import the necessary modules: a method to randomly shuffle a list and Model from docplex, which is used to solve systems of linear equations. We will also set a random seed to make the results 100% reproducible.\n",
    "\n",
    "Setting a random seed is optional, but you might then get slightly different numbers."
   ]
  },
  {
   "cell_type": "code",
   "execution_count": 1,
   "metadata": {},
   "outputs": [],
   "source": [
    "from random import shuffle, seed\n",
    "from docplex.mp.model import Model\n",
    "\n",
    "seed(1)"
   ]
  },
  {
   "cell_type": "markdown",
   "metadata": {},
   "source": [
    "Next, let's define an abstract strategy class. A strategy needs to be able to take two types of decisions:\n",
    "\n",
    "1. Which couples will be chosen for the next round\n",
    "2. Which couple is sent to the truth booth at the end of each round\n",
    "\n",
    "For each of these tasks, the strategy gets some basic information:\n",
    "\n",
    "1. The pairs that have been correctly identified as perfect matches alreaady\n",
    "2. The pairs that have been identified as a non-perfect match in the truth booth\n",
    "3. The matchups of the previous rounds\n",
    "4. The number of perfect matches in each round"
   ]
  },
  {
   "cell_type": "code",
   "execution_count": 2,
   "metadata": {},
   "outputs": [],
   "source": [
    "class Strategy:\n",
    "    \n",
    "    def get_next_pairs(self, known_pairs, known_not_pairs, previous_pairs, previous_correct):\n",
    "        pass\n",
    "    \n",
    "    def get_truth_booth_pair(self, pairs, known_pairs, known_not_pairs, previous_pairs, previous_correct):\n",
    "        pass"
   ]
  },
  {
   "cell_type": "markdown",
   "metadata": {},
   "source": [
    "A first strategy (Strategy 1) is trying to simulate what the contestants do in real life. That means, that the couples are chosen randomly and that we only take into account basic information (confirmed and unconfirmed couples). Like the contestants in real life, this strategy doesn't really knoow what to do with the information about the previous rounds and the number of correct perfect matches in each of those rounds:"
   ]
  },
  {
   "cell_type": "code",
   "execution_count": 3,
   "metadata": {},
   "outputs": [],
   "source": [
    "class Strategy1(Strategy):\n",
    "    \"\"\" This is a very naive strategy, but close to what the actual contestants are doing:\n",
    "        Couples are formed randomly in every round. The only information that is considered when forming\n",
    "        the couples is the couples that have been confirmed/ not confirmed by the truth booth. Furthermore,\n",
    "        if the matchmaking ceremony reveals that we have no new couples, these couples are also avoided in the future.\n",
    "        Couples are chosen randomly for the truth booth. In the event that we know that there are no couples \n",
    "        (since the truth booth is after the matchmaking ceremony), we send a new couple to the truth booth to increase \n",
    "        our chances to get valuable information. \n",
    "    \"\"\"\n",
    "    \n",
    "    def get_next_pairs(self, n_couples, known_pairs, known_not_pairs, previous_pairs, previous_correct):\n",
    "        # always first set the pairs that already known and then randomly chose the other pairs without chosing any pairs that have previously been identified as non-matching\n",
    "        pairs = known_pairs[:]\n",
    "        men = list(range(n_couples))\n",
    "        women = list(range(n_couples))\n",
    "        used_men = [c[0] for c in pairs]\n",
    "        used_women = [c[1] for c in pairs]\n",
    "        available_men = [m for m in men if m not in used_men]\n",
    "        available_women = [w for w in women if w not in used_women]\n",
    "        fail_count = 0\n",
    "        while len(pairs) < n_couples:\n",
    "            shuffle(available_men)\n",
    "            shuffle(available_women)\n",
    "            if (available_men[-1], available_women[-1]) not in known_not_pairs:\n",
    "                pairs.append((available_men.pop(), available_women.pop()))\n",
    "                used_men.append(pairs[-1][0])\n",
    "                used_women.append(pairs[-1][1])\n",
    "            else:\n",
    "                fail_count += 1\n",
    "            if fail_count > 300: # if there have been too many failed attempts to form the couples, lets start over again\n",
    "                fail_count = 0\n",
    "                pairs = known_pairs[:]\n",
    "                men = list(range(n_couples))\n",
    "                women = list(range(n_couples))\n",
    "                used_men = [c[0] for c in pairs]\n",
    "                used_women = [c[1] for c in pairs]\n",
    "                available_men = [m for m in men if m not in used_men]\n",
    "                available_women = [w for w in women if w not in used_women]\n",
    "        return pairs\n",
    "    \n",
    "    def get_truth_booth_pair(self, pairs, known_pairs, known_not_pairs, previous_pairs, previous_correct):\n",
    "        shuffle(pairs)\n",
    "        while pairs[0] in known_pairs:\n",
    "            shuffle(pairs)\n",
    "        if previous_correct[-1] == len(known_pairs): # if we know that none of the couples (apart from the already confirmed ones) are correct, we are better off sending a new couple that we don't have information on to the truth booth:\n",
    "            men = list(range(len(pairs)))\n",
    "            women = list(range(len(pairs)))\n",
    "            shuffle(men)\n",
    "            shuffle(women)\n",
    "            while((men[0], women[0]) in known_pairs+known_not_pairs):\n",
    "                shuffle(men)\n",
    "                shuffle(women)\n",
    "            return (men[0], women[0])\n",
    "        return pairs[0]\n",
    "\n"
   ]
  },
  {
   "cell_type": "markdown",
   "metadata": {},
   "source": [
    "An optimal strategy on the other hand is using mathematical modelling to extract as much information as possible from the information that is given and to strategically chose the \"truth booth\" couple in such a way that only a couple is chosen, that we don't know anything about yet."
   ]
  },
  {
   "cell_type": "code",
   "execution_count": 4,
   "metadata": {},
   "outputs": [],
   "source": [
    "class Strategy2(Strategy):\n",
    "    \"\"\" This is the mathematically optimal strategy. Every bit of information that is available is used to\n",
    "        chose the most likely matches at every step. This strategy is using mixed integer programming to solve \n",
    "        the system of linear equations that give information about the perfect matches.\n",
    "    \"\"\"\n",
    "    \n",
    "    def get_next_pairs(self, n_couples, known_pairs, known_not_pairs, previous_pairs, previous_correct, exclude_solution = None):\n",
    "        # This method has an optional parameter \"exclude_solution\".\n",
    "        # This parameter can be used to generate a second solution, in case one exists.\n",
    "        # This can be useful to determine which pair to send to the truth booth\n",
    "        m = Model()\n",
    "        x = {(man, woman): m.binary_var() for man in range(n_couples) for woman in range(n_couples)}\n",
    "        # couple condition - everyone has exactly one partner:\n",
    "        for i in range(n_couples):\n",
    "            m.add(m.sum(x[(i,j)] for j in range(n_couples)) == 1)\n",
    "            m.add(m.sum(x[(j,i)] for j in range(n_couples)) == 1)\n",
    "        # set the known pairs and known \"not pairs\"\n",
    "        for pair in known_pairs:\n",
    "            m.add(x[pair] == 1)\n",
    "        for pair in known_not_pairs:\n",
    "            m.add(x[pair] == 0)\n",
    "        # Use information from matchmaking ceremony\n",
    "        for i in range(len(previous_pairs)):\n",
    "            m.add(m.sum(x[pair] for pair in previous_pairs[i]) == previous_correct[i])\n",
    "        # Possibly exclude a solution\n",
    "        if exclude_solution:\n",
    "            m.add(m.sum(x[pair] for pair in exclude_solution) <= len(exclude_solution)-1)\n",
    "        solution = m.solve()\n",
    "        if solution:\n",
    "            pairs = []\n",
    "            for man in range(n_couples):\n",
    "                for woman in range(n_couples):\n",
    "                    if x[(man, woman)].solution_value > 0.5:\n",
    "                        pairs.append((man, woman))\n",
    "            return pairs\n",
    "        else:\n",
    "            return None\n",
    "    \n",
    "    def get_truth_booth_pair(self, pairs, known_pairs, known_not_pairs, previous_pairs, previous_correct):\n",
    "        # Ideally, we want to send a couple to the truth booth that we are not certain about yet\n",
    "        # For this persion we generate two new pairings. If only one pairing exist, we already know that we have guessed everything right.\n",
    "        # Otherwise, we will take the first couple that differs between the two solutions\n",
    "        pairing1 = self.get_next_pairs(len(pairs), known_pairs, known_not_pairs, previous_pairs, previous_correct)\n",
    "        pairing2 = self.get_next_pairs(len(pairs), known_pairs, known_not_pairs, previous_pairs, previous_correct, pairing1)\n",
    "        if not pairing2:\n",
    "            return pairs[0] # if a second solution doesn't exist, we know that in the next step we will for sure get the right couples anyway, hence it doesn't matter what we return\n",
    "        else:\n",
    "            for p in pairing1:\n",
    "                if p not in pairing2:\n",
    "                    return p # Otherwise just pick the first solution that exists in pairing1 but not in pairing2\n",
    "        return pairs[0]"
   ]
  },
  {
   "cell_type": "markdown",
   "metadata": {},
   "source": [
    "Next, we need a framework to simulate the outcomes of these strategies. First of all, a method to generate random \"perfect matches\". This method only takes the number of couples and then randomly assigns a man to a woman. These are our perfect couples:"
   ]
  },
  {
   "cell_type": "code",
   "execution_count": 5,
   "metadata": {},
   "outputs": [],
   "source": [
    "def generate_random_set_of_couples(n_couples):\n",
    "    men = list(range(n_couples))\n",
    "    women = list(range(n_couples))\n",
    "    shuffle(men)\n",
    "    shuffle(women)\n",
    "    perfect_matches = [(men[i], women[i]) for i in range(n_couples)] \n",
    "    return perfect_matches"
   ]
  },
  {
   "cell_type": "markdown",
   "metadata": {},
   "source": [
    "Then, we need a method to simulate a single \"season\" of AYTO:"
   ]
  },
  {
   "cell_type": "code",
   "execution_count": 6,
   "metadata": {},
   "outputs": [],
   "source": [
    "def simulate_once(strategy, n_couples = 10, log_output = True):\n",
    "    perfect_matches = generate_random_set_of_couples(n_couples)\n",
    "    if log_output:\n",
    "        print('The perfect matches are as follows')\n",
    "        print(perfect_matches)\n",
    "    known_pairs = []\n",
    "    known_not_pairs = []\n",
    "    previous_pairs = []\n",
    "    previous_correct = []\n",
    "    for week in range(0, 100):\n",
    "        if log_output:\n",
    "            print('Week %i'%week)\n",
    "        # at the beginning of the week, chose the matchups\n",
    "        pairs = strategy.get_next_pairs(n_couples, known_pairs, known_not_pairs, previous_pairs, previous_correct)\n",
    "        \n",
    "        if log_output:\n",
    "            print('Chosen matchups:', pairs)\n",
    "        # at the end of the episode we will know how many of the couples were perfect matches\n",
    "        count = 0\n",
    "        for couple in pairs:\n",
    "            if couple in perfect_matches:\n",
    "                count += 1\n",
    "        if count == len(known_pairs):\n",
    "            # In this case we know for all pairs except the ones that were identified already that they aren't perfect matches\n",
    "            for couple in pairs:\n",
    "                if couple not in known_pairs:\n",
    "                    known_not_pairs.append(couple)\n",
    "        if log_output:\n",
    "            print('Correct pairs in this round: ', count)\n",
    "        previous_pairs.append(pairs) # update our lists\n",
    "        previous_correct.append(count)\n",
    "        # at the end of the week, send one pair to the truth booth\n",
    "        truth_booth_pair = strategy.get_truth_booth_pair(pairs, known_pairs, known_not_pairs, previous_pairs, previous_correct)\n",
    "        match = truth_booth_pair in perfect_matches # check if the pair chosen by the strategy is a perfect match\n",
    "        if log_output:\n",
    "            print('Pair for the truth booth: ', truth_booth_pair)\n",
    "            print('Truth booth result: ', match)\n",
    "            print()\n",
    "        if match:\n",
    "            known_pairs.append(truth_booth_pair)\n",
    "        else:\n",
    "            known_not_pairs.append(truth_booth_pair)\n",
    "        if count == n_couples:\n",
    "            if log_output:\n",
    "                print('All couples were identified correctly in week %i'%week)\n",
    "            return week"
   ]
  },
  {
   "cell_type": "markdown",
   "metadata": {},
   "source": [
    "Let's test this with each strategy:"
   ]
  },
  {
   "cell_type": "code",
   "execution_count": 7,
   "metadata": {},
   "outputs": [
    {
     "name": "stdout",
     "output_type": "stream",
     "text": [
      "The perfect matches are as follows\n",
      "[(6, 4), (8, 8), (9, 2), (7, 6), (5, 5), (3, 9), (0, 0), (4, 7), (1, 1), (2, 3)]\n",
      "Week 0\n",
      "Chosen matchups: [(4, 6), (3, 5), (6, 9), (5, 0), (0, 1), (1, 7), (8, 2), (7, 4), (2, 8), (9, 3)]\n",
      "Correct pairs in this round:  0\n",
      "Pair for the truth booth:  (6, 7)\n",
      "Truth booth result:  False\n",
      "\n",
      "Week 1\n",
      "Chosen matchups: [(1, 5), (9, 2), (0, 0), (3, 1), (7, 6), (5, 9), (4, 4), (6, 8), (8, 7), (2, 3)]\n",
      "Correct pairs in this round:  4\n",
      "Pair for the truth booth:  (5, 9)\n",
      "Truth booth result:  False\n",
      "\n",
      "Week 2\n",
      "Chosen matchups: [(2, 4), (0, 7), (8, 0), (5, 2), (7, 9), (1, 3), (9, 5), (3, 6), (4, 8), (6, 1)]\n",
      "Correct pairs in this round:  0\n",
      "Pair for the truth booth:  (9, 9)\n",
      "Truth booth result:  False\n",
      "\n",
      "Week 3\n",
      "Chosen matchups: [(8, 7), (1, 1), (0, 4), (7, 2), (3, 9), (6, 6), (2, 0), (4, 3), (9, 8), (5, 5)]\n",
      "Correct pairs in this round:  3\n",
      "Pair for the truth booth:  (6, 6)\n",
      "Truth booth result:  False\n",
      "\n",
      "Week 4\n",
      "Chosen matchups: [(0, 6), (5, 3), (7, 7), (3, 4), (6, 5), (4, 1), (2, 0), (8, 9), (9, 2), (1, 8)]\n",
      "Correct pairs in this round:  1\n",
      "Pair for the truth booth:  (6, 5)\n",
      "Truth booth result:  False\n",
      "\n",
      "Week 5\n",
      "Chosen matchups: [(4, 9), (5, 5), (1, 4), (2, 1), (9, 7), (7, 3), (6, 0), (0, 6), (3, 2), (8, 8)]\n",
      "Correct pairs in this round:  2\n",
      "Pair for the truth booth:  (1, 4)\n",
      "Truth booth result:  False\n",
      "\n",
      "Week 6\n",
      "Chosen matchups: [(6, 4), (0, 6), (8, 8), (2, 2), (3, 0), (9, 1), (7, 7), (4, 5), (1, 9), (5, 3)]\n",
      "Correct pairs in this round:  2\n",
      "Pair for the truth booth:  (4, 5)\n",
      "Truth booth result:  False\n",
      "\n",
      "Week 7\n",
      "Chosen matchups: [(3, 8), (9, 1), (5, 5), (6, 2), (1, 9), (4, 4), (7, 6), (2, 3), (0, 0), (8, 7)]\n",
      "Correct pairs in this round:  4\n",
      "Pair for the truth booth:  (6, 2)\n",
      "Truth booth result:  False\n",
      "\n",
      "Week 8\n",
      "Chosen matchups: [(0, 0), (3, 7), (2, 3), (9, 2), (8, 6), (1, 1), (7, 5), (5, 4), (6, 8), (4, 9)]\n",
      "Correct pairs in this round:  4\n",
      "Pair for the truth booth:  (3, 7)\n",
      "Truth booth result:  False\n",
      "\n",
      "Week 9\n",
      "Chosen matchups: [(1, 0), (2, 1), (0, 4), (8, 3), (9, 6), (4, 9), (7, 5), (5, 7), (6, 8), (3, 2)]\n",
      "Correct pairs in this round:  0\n",
      "Pair for the truth booth:  (1, 9)\n",
      "Truth booth result:  False\n",
      "\n",
      "Week 10\n",
      "Chosen matchups: [(9, 8), (0, 9), (3, 1), (2, 5), (7, 6), (4, 0), (5, 3), (6, 4), (1, 2), (8, 7)]\n",
      "Correct pairs in this round:  2\n",
      "Pair for the truth booth:  (8, 7)\n",
      "Truth booth result:  False\n",
      "\n",
      "Week 11\n",
      "Chosen matchups: [(0, 9), (1, 2), (2, 3), (7, 6), (8, 5), (4, 7), (9, 1), (6, 4), (3, 0), (5, 8)]\n",
      "Correct pairs in this round:  4\n",
      "Pair for the truth booth:  (2, 3)\n",
      "Truth booth result:  True\n",
      "\n",
      "Week 12\n",
      "Chosen matchups: [(2, 3), (9, 1), (7, 6), (0, 5), (6, 0), (8, 9), (4, 7), (3, 8), (5, 4), (1, 2)]\n",
      "Correct pairs in this round:  3\n",
      "Pair for the truth booth:  (4, 7)\n",
      "Truth booth result:  True\n",
      "\n",
      "Week 13\n",
      "Chosen matchups: [(2, 3), (4, 7), (3, 0), (7, 1), (5, 6), (1, 5), (8, 8), (6, 4), (9, 2), (0, 9)]\n",
      "Correct pairs in this round:  5\n",
      "Pair for the truth booth:  (8, 8)\n",
      "Truth booth result:  True\n",
      "\n",
      "Week 14\n",
      "Chosen matchups: [(2, 3), (4, 7), (8, 8), (0, 6), (7, 1), (6, 0), (5, 5), (1, 2), (3, 9), (9, 4)]\n",
      "Correct pairs in this round:  5\n",
      "Pair for the truth booth:  (5, 5)\n",
      "Truth booth result:  True\n",
      "\n",
      "Week 15\n",
      "Chosen matchups: [(2, 3), (4, 7), (8, 8), (5, 5), (9, 0), (0, 6), (7, 2), (1, 1), (3, 9), (6, 4)]\n",
      "Correct pairs in this round:  7\n",
      "Pair for the truth booth:  (9, 0)\n",
      "Truth booth result:  False\n",
      "\n",
      "Week 16\n",
      "Chosen matchups: [(2, 3), (4, 7), (8, 8), (5, 5), (1, 6), (3, 9), (9, 2), (0, 0), (6, 4), (7, 1)]\n",
      "Correct pairs in this round:  8\n",
      "Pair for the truth booth:  (7, 1)\n",
      "Truth booth result:  False\n",
      "\n",
      "Week 17\n",
      "Chosen matchups: [(2, 3), (4, 7), (8, 8), (5, 5), (1, 6), (3, 0), (6, 4), (9, 1), (0, 9), (7, 2)]\n",
      "Correct pairs in this round:  5\n",
      "Pair for the truth booth:  (9, 1)\n",
      "Truth booth result:  False\n",
      "\n",
      "Week 18\n",
      "Chosen matchups: [(2, 3), (4, 7), (8, 8), (5, 5), (9, 2), (1, 1), (6, 0), (7, 6), (0, 9), (3, 4)]\n",
      "Correct pairs in this round:  7\n",
      "Pair for the truth booth:  (0, 9)\n",
      "Truth booth result:  False\n",
      "\n",
      "Week 19\n",
      "Chosen matchups: [(2, 3), (4, 7), (8, 8), (5, 5), (9, 2), (7, 0), (0, 6), (1, 1), (3, 9), (6, 4)]\n",
      "Correct pairs in this round:  8\n",
      "Pair for the truth booth:  (1, 1)\n",
      "Truth booth result:  True\n",
      "\n",
      "Week 20\n",
      "Chosen matchups: [(2, 3), (4, 7), (8, 8), (5, 5), (1, 1), (6, 4), (3, 9), (9, 2), (0, 0), (7, 6)]\n",
      "Correct pairs in this round:  10\n",
      "Pair for the truth booth:  (3, 9)\n",
      "Truth booth result:  True\n",
      "\n",
      "All couples were identified correctly in week 20\n"
     ]
    },
    {
     "data": {
      "text/plain": [
       "20"
      ]
     },
     "execution_count": 7,
     "metadata": {},
     "output_type": "execute_result"
    }
   ],
   "source": [
    "st = Strategy1()\n",
    "\n",
    "simulate_once(st)"
   ]
  },
  {
   "cell_type": "markdown",
   "metadata": {},
   "source": [
    "In this first test with the naive strategy, we wouldn't be able to identify all couples in 10 rounds."
   ]
  },
  {
   "cell_type": "code",
   "execution_count": 8,
   "metadata": {},
   "outputs": [
    {
     "name": "stdout",
     "output_type": "stream",
     "text": [
      "The perfect matches are as follows\n",
      "[(8, 2), (0, 0), (6, 3), (9, 6), (1, 9), (4, 7), (3, 8), (7, 5), (5, 1), (2, 4)]\n",
      "Week 0\n",
      "Chosen matchups: [(0, 0), (1, 1), (2, 2), (3, 3), (4, 4), (5, 5), (6, 6), (7, 7), (8, 8), (9, 9)]\n",
      "Correct pairs in this round:  1\n",
      "Pair for the truth booth:  (0, 9)\n",
      "Truth booth result:  False\n",
      "\n",
      "Week 1\n",
      "Chosen matchups: [(0, 2), (1, 9), (2, 5), (3, 8), (4, 3), (5, 7), (6, 6), (7, 4), (8, 0), (9, 1)]\n",
      "Correct pairs in this round:  2\n",
      "Pair for the truth booth:  (0, 8)\n",
      "Truth booth result:  False\n",
      "\n",
      "Week 2\n",
      "Chosen matchups: [(0, 1), (1, 7), (2, 8), (3, 9), (4, 3), (5, 2), (6, 6), (7, 0), (8, 5), (9, 4)]\n",
      "Correct pairs in this round:  0\n",
      "Pair for the truth booth:  (0, 6)\n",
      "Truth booth result:  False\n",
      "\n",
      "Week 3\n",
      "Chosen matchups: [(0, 2), (1, 0), (2, 5), (3, 7), (4, 1), (5, 6), (6, 3), (7, 8), (8, 4), (9, 9)]\n",
      "Correct pairs in this round:  1\n",
      "Pair for the truth booth:  (1, 8)\n",
      "Truth booth result:  False\n",
      "\n",
      "Week 4\n",
      "Chosen matchups: [(0, 4), (1, 2), (2, 5), (3, 1), (4, 0), (5, 7), (6, 9), (7, 6), (8, 8), (9, 3)]\n",
      "Correct pairs in this round:  0\n",
      "Pair for the truth booth:  (0, 2)\n",
      "Truth booth result:  False\n",
      "\n",
      "Week 5\n",
      "Chosen matchups: [(0, 7), (1, 6), (2, 3), (3, 8), (4, 2), (5, 0), (6, 5), (7, 4), (8, 1), (9, 9)]\n",
      "Correct pairs in this round:  1\n",
      "Pair for the truth booth:  (0, 3)\n",
      "Truth booth result:  False\n",
      "\n",
      "Week 6\n",
      "Chosen matchups: [(0, 0), (1, 9), (2, 1), (3, 2), (4, 5), (5, 8), (6, 3), (7, 4), (8, 6), (9, 7)]\n",
      "Correct pairs in this round:  3\n",
      "Pair for the truth booth:  (0, 0)\n",
      "Truth booth result:  True\n",
      "\n",
      "Week 7\n",
      "Chosen matchups: [(0, 0), (1, 9), (2, 7), (3, 6), (4, 1), (5, 3), (6, 8), (7, 4), (8, 2), (9, 5)]\n",
      "Correct pairs in this round:  3\n",
      "Pair for the truth booth:  (1, 5)\n",
      "Truth booth result:  False\n",
      "\n",
      "Week 8\n",
      "Chosen matchups: [(0, 0), (1, 9), (2, 3), (3, 4), (4, 5), (5, 6), (6, 8), (7, 2), (8, 7), (9, 1)]\n",
      "Correct pairs in this round:  2\n",
      "Pair for the truth booth:  (2, 6)\n",
      "Truth booth result:  False\n",
      "\n",
      "Week 9\n",
      "Chosen matchups: [(0, 0), (1, 9), (2, 4), (3, 8), (4, 7), (5, 1), (6, 3), (7, 5), (8, 2), (9, 6)]\n",
      "Correct pairs in this round:  10\n",
      "Pair for the truth booth:  (0, 0)\n",
      "Truth booth result:  True\n",
      "\n",
      "All couples were identified correctly in week 9\n"
     ]
    },
    {
     "data": {
      "text/plain": [
       "9"
      ]
     },
     "execution_count": 8,
     "metadata": {},
     "output_type": "execute_result"
    }
   ],
   "source": [
    "st = Strategy2()\n",
    "\n",
    "simulate_once(st)"
   ]
  },
  {
   "cell_type": "markdown",
   "metadata": {},
   "source": [
    "The optimal strategy on the other hand needs less than 10 weeks to identify all couples in this first experiment.\n",
    "\n",
    "Obviously, a single experiment doesn't give a full picture, which is why we should try to repeat our experiment over and over again, to find out how frequently each scenario is. This part is what we call a Monte Carlo simulation:"
   ]
  },
  {
   "cell_type": "code",
   "execution_count": 9,
   "metadata": {},
   "outputs": [],
   "source": [
    "def monte_carlo_simulation(n_couples, strategy, n_simulations = 1000):\n",
    "    frequency = {i:0 for i in range(0,45)}\n",
    "    for i in range(n_simulations):\n",
    "        frequency[simulate_once(strategy, n_couples, log_output = False)] += 1\n",
    "    return frequency"
   ]
  },
  {
   "cell_type": "markdown",
   "metadata": {},
   "source": [
    "Let's first simulate strategy 1. We want to simulate 1000 seasons of AYTO to find out how many attempts are needed to find out all matches:"
   ]
  },
  {
   "cell_type": "code",
   "execution_count": 10,
   "metadata": {},
   "outputs": [],
   "source": [
    "frequencies = monte_carlo_simulation(10, Strategy1(), 1000)"
   ]
  },
  {
   "cell_type": "markdown",
   "metadata": {},
   "source": [
    "To find out how many of our 1000 attempts resulted in all couples being found in 10 or fewer rounds, we just have to sum up the frequencies up to 10:"
   ]
  },
  {
   "cell_type": "code",
   "execution_count": 11,
   "metadata": {},
   "outputs": [
    {
     "data": {
      "text/plain": [
       "31"
      ]
     },
     "execution_count": 11,
     "metadata": {},
     "output_type": "execute_result"
    }
   ],
   "source": [
    "sum(frequencies[i] for i in range(10+1))"
   ]
  },
  {
   "cell_type": "markdown",
   "metadata": {},
   "source": [
    "In this attempt, only 3.1% of seasons would result in all of the couples being uncovered. We can also visualize this in a diagram of probabilities:"
   ]
  },
  {
   "cell_type": "code",
   "execution_count": 12,
   "metadata": {},
   "outputs": [
    {
     "data": {
      "image/png": "[encoded data removed]",
      "text/plain": [
       "<Figure size 432x288 with 1 Axes>"
      ]
     },
     "metadata": {
      "needs_background": "light"
     },
     "output_type": "display_data"
    }
   ],
   "source": [
    "import matplotlib.pylab as plt\n",
    "\n",
    "lists = sorted(frequencies.items()) # sorted by key, return a list of tuples\n",
    "\n",
    "x, y = zip(*lists) # unpack a list of pairs into two tuples\n",
    "\n",
    "plt.plot(x, y)\n",
    "plt.show()"
   ]
  },
  {
   "cell_type": "markdown",
   "metadata": {},
   "source": [
    "As we can see, in the majority of seasons it would take about 20 episodes to find all matches. We can now do the exact same experiment for the \"optimal\" strategy:"
   ]
  },
  {
   "cell_type": "code",
   "execution_count": 13,
   "metadata": {},
   "outputs": [
    {
     "name": "stdout",
     "output_type": "stream",
     "text": [
      "In 989 out of 1000 episodes all of the perfect matches are found in 10 or less weeks.\n"
     ]
    },
    {
     "data": {
      "image/png": "[encoded data removed]",
      "text/plain": [
       "<Figure size 432x288 with 1 Axes>"
      ]
     },
     "metadata": {
      "needs_background": "light"
     },
     "output_type": "display_data"
    }
   ],
   "source": [
    "num_simulations = 1000\n",
    "frequencies = monte_carlo_simulation(10, Strategy2(), num_simulations)\n",
    "successes = sum(frequencies[i] for i in range(10+1)) # number of episodes where it takes 10 or fewer rounds to uncover all couples\n",
    "print('In %i out of %i episodes all of the perfect matches are found in 10 or less weeks.'%(successes, num_simulations))\n",
    "\n",
    "lists = sorted(frequencies.items()) # sorted by key, return a list of tuples\n",
    "\n",
    "x, y = zip(*lists) # unpack a list of pairs into two tuples\n",
    "\n",
    "plt.plot(x, y)\n",
    "plt.show()"
   ]
  },
  {
   "cell_type": "markdown",
   "metadata": {},
   "source": [
    "Strategy 2 is clearly far superior. It manages to find all perfect matches in 10 or fewer weeks in almost all cases."
   ]
  }
 ],
 "metadata": {
  "kernelspec": {
   "display_name": "Python 3",
   "language": "python",
   "name": "python3"
  },
  "language_info": {
   "codemirror_mode": {
    "name": "ipython",
    "version": 3
   },
   "file_extension": ".py",
   "mimetype": "text/x-python",
   "name": "python",
   "nbconvert_exporter": "python",
   "pygments_lexer": "ipython3",
   "version": "3.7.5"
  }
 },
 "nbformat": 4,
 "nbformat_minor": 4
}
